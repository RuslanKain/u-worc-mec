{
 "cells": [
  {
   "cell_type": "code",
   "execution_count": 1,
   "id": "general-knitting",
   "metadata": {},
   "outputs": [],
   "source": [
    "import syft as sy # install syft according to https://blog.openmined.org/installing-pysyft-0-5-0rc1-on-a-raspberry-pi-4/https://blog.openmined.org/installing-pysyft-0-5-0rc1-on-a-raspberry-pi-4/\n",
    "from sklearn import datasets\n",
    "from sklearn.model_selection import train_test_split\n",
    "import torch as th\n",
    "import matplotlib.pyplot as plt\n",
    "import psutil as psu\n",
    "from time import time, localtime, sleep\n",
    "import numpy as np\n",
    "from psutil import cpu_freq\n",
    "from usage import Usage"
   ]
  },
  {
   "cell_type": "code",
   "execution_count": null,
   "id": "proved-billy",
   "metadata": {},
   "outputs": [],
   "source": [
    "monitor = Usage(interval = 5)"
   ]
  },
  {
   "cell_type": "markdown",
   "id": "3be63545",
   "metadata": {},
   "source": [
    "## Sets the name of the saved data, based on device and resource state"
   ]
  },
  {
   "cell_type": "code",
   "execution_count": null,
   "id": "occasional-behalf",
   "metadata": {},
   "outputs": [],
   "source": [
    "rpi_name = 'RPi4_1000'\n",
    "test_name = '64bit_WIFI'"
   ]
  },
  {
   "cell_type": "markdown",
   "id": "c7a4de18",
   "metadata": {},
   "source": [
    "## CPU frequency according to experiment (1500, 1000, 600) MHz"
   ]
  },
  {
   "cell_type": "code",
   "execution_count": null,
   "id": "engaging-decline",
   "metadata": {},
   "outputs": [],
   "source": [
    "!sudo cpufreq-set --max 1000Mhz\n",
    "cpu_freq()"
   ]
  },
  {
   "cell_type": "markdown",
   "id": "cb9a9322",
   "metadata": {},
   "source": [
    "Based on Openmined's course: \n",
    "https://courses.openmined.org/courses/foundations-of-private-computation\n",
    "\n",
    "The code for the Worker used in course can be found here: \n",
    "https://github.com/OpenMined/courses/blob/foundations-of-private-computation/federated-learning/duet_mnist/MNIST_Syft_Data_Owner.ipynb  "
   ]
  },
  {
   "cell_type": "code",
   "execution_count": null,
   "id": "dimensional-murray",
   "metadata": {},
   "outputs": [],
   "source": [
    "duet = sy.launch_duet()"
   ]
  },
  {
   "cell_type": "markdown",
   "id": "flying-alfred",
   "metadata": {},
   "source": [
    "## For Training on local data"
   ]
  },
  {
   "cell_type": "code",
   "execution_count": null,
   "id": "private-slope",
   "metadata": {},
   "outputs": [],
   "source": [
    "mnsit = datasets.load_digits()"
   ]
  },
  {
   "cell_type": "code",
   "execution_count": null,
   "id": "norwegian-south",
   "metadata": {},
   "outputs": [],
   "source": [
    "X, y = mnsit.data, mnsit.target\n",
    "\n",
    "X, _, y, _ = train_test_split(X, y, test_size=0.2, shuffle = False, random_state=42)\n",
    "#Test data Ignored here"
   ]
  },
  {
   "cell_type": "code",
   "execution_count": null,
   "id": "respective-december",
   "metadata": {},
   "outputs": [],
   "source": [
    "_, axes = plt.subplots(nrows=1, ncols=4, figsize=(10, 3))\n",
    "for ax, image, label in zip(axes, mnsit.images, mnsit.target):\n",
    "    ax.set_axis_off()\n",
    "    ax.imshow(image, cmap=plt.cm.gray_r, interpolation='nearest')\n",
    "    ax.set_title('Training: %i' % label)"
   ]
  },
  {
   "cell_type": "code",
   "execution_count": null,
   "id": "cross-child",
   "metadata": {},
   "outputs": [],
   "source": [
    "X = th.FloatTensor(X)\n",
    "y = th.FloatTensor(y)"
   ]
  },
  {
   "cell_type": "code",
   "execution_count": null,
   "id": "weird-liechtenstein",
   "metadata": {},
   "outputs": [],
   "source": [
    "X = X.tag(\"digits-data\")\n",
    "y = y.tag(\"digits-target\")\n",
    "\n",
    "X = X.describe(\"This is a dataset for handwritten digit classification of \" + str(len(X)) + \" samples with each sample of size \" + str(len(X[0])))\n",
    "y = y.describe(\"Labels for digitis (Random State = 42): \"+ str(th.unique(y)))"
   ]
  },
  {
   "cell_type": "code",
   "execution_count": null,
   "id": "annual-pattern",
   "metadata": {},
   "outputs": [],
   "source": [
    "data_pointer = X.send(duet, pointable=True)\n",
    "target_pointer = y.send(duet, pointable=True)\n",
    "print('Encryted data sent')"
   ]
  },
  {
   "cell_type": "code",
   "execution_count": null,
   "id": "indie-medication",
   "metadata": {
    "scrolled": true
   },
   "outputs": [],
   "source": [
    "# See the object stored in the tensor\n",
    "duet.store.pandas"
   ]
  },
  {
   "cell_type": "markdown",
   "id": "casual-preliminary",
   "metadata": {},
   "source": [
    "## When Training on data\n",
    "\n"
   ]
  },
  {
   "cell_type": "code",
   "execution_count": null,
   "id": "agricultural-alabama",
   "metadata": {},
   "outputs": [],
   "source": [
    "duet.requests.add_handler(action=\"accept\")"
   ]
  },
  {
   "cell_type": "code",
   "execution_count": null,
   "id": "e09bf24e",
   "metadata": {},
   "outputs": [],
   "source": [
    "monitor.run_monitor_thread(ipykernel = True, topProc = False)"
   ]
  },
  {
   "cell_type": "code",
   "execution_count": null,
   "id": "brown-appendix",
   "metadata": {},
   "outputs": [],
   "source": [
    "usage_data = monitor.stop_monitor_thread()\n",
    "usage_data.to_csv('data/{}/usage_data_{}_{}.csv'.format(rpi_name,rpi_name,test_name))"
   ]
  },
  {
   "cell_type": "code",
   "execution_count": null,
   "id": "computational-winner",
   "metadata": {},
   "outputs": [],
   "source": [
    "!sudo cpufreq-set --max 1500Mhz\n",
    "cpu_freq()"
   ]
  }
 ],
 "metadata": {
  "kernelspec": {
   "display_name": "Python 3 (ipykernel)",
   "language": "python",
   "name": "python3"
  },
  "language_info": {
   "codemirror_mode": {
    "name": "ipython",
    "version": 3
   },
   "file_extension": ".py",
   "mimetype": "text/x-python",
   "name": "python",
   "nbconvert_exporter": "python",
   "pygments_lexer": "ipython3",
   "version": "3.9.7"
  }
 },
 "nbformat": 4,
 "nbformat_minor": 5
}

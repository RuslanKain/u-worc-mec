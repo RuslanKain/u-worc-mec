{
 "cells": [
  {
   "cell_type": "code",
   "execution_count": 1,
   "metadata": {},
   "outputs": [],
   "source": [
    "import syft as sy\n",
    "import matplotlib.pyplot as plt\n",
    "import torch\n",
    "import torchvision\n",
    "import time\n",
    "import pandas as pd\n",
    "import numpy as np\n",
    "from sklearn.metrics import accuracy_score\n",
    "from sklearn import datasets\n",
    "from sklearn.model_selection import train_test_split\n",
    "from tqdm import tqdm \n",
    "from time_tracker import time_tracker"
   ]
  },
  {
   "cell_type": "markdown",
   "metadata": {},
   "source": [
    "# Setup"
   ]
  },
  {
   "cell_type": "code",
   "execution_count": null,
   "metadata": {},
   "outputs": [],
   "source": [
    "monitor = time_tracker(interval = 5)"
   ]
  },
  {
   "cell_type": "markdown",
   "metadata": {},
   "source": [
    "## Sets the name of the saved data, based on device and resource state, and the number of models to create"
   ]
  },
  {
   "cell_type": "code",
   "execution_count": null,
   "metadata": {},
   "outputs": [],
   "source": [
    "test_name = '64bit_WIFI'\n",
    "rpi_name = 'RPi4_1000'\n",
    "num_of_models = 10"
   ]
  },
  {
   "cell_type": "markdown",
   "metadata": {},
   "source": [
    "Based on Openmined's course: \n",
    "https://courses.openmined.org/courses/foundations-of-private-computation\n",
    "\n",
    "The code for the Controller used in course can be found here: \n",
    "https://github.com/OpenMined/courses/blob/foundations-of-private-computation/federated-learning/duet_mnist/MNIST_Syft_Data_Scientist.ipynb"
   ]
  },
  {
   "cell_type": "code",
   "execution_count": null,
   "metadata": {},
   "outputs": [],
   "source": [
    "#duet_RPi8_1500 = sy.join_duet(target_id=\"438be5a282e90f571b435feae2d0b648\", network_url=\"http://ec2-18-218-7-180.us-east-2.compute.amazonaws.com:5000\")\n",
    "duet = sy.duet(\"ab4caad04fd608d7b66f3331c7b12885\")"
   ]
  },
  {
   "cell_type": "code",
   "execution_count": null,
   "metadata": {},
   "outputs": [],
   "source": [
    "remote_torch = duet.torch"
   ]
  },
  {
   "cell_type": "markdown",
   "metadata": {},
   "source": [
    "# Linear Regression"
   ]
  },
  {
   "cell_type": "code",
   "execution_count": null,
   "metadata": {},
   "outputs": [],
   "source": [
    "#Linear Regression Model Dimensions (each image is 8x8, with 10 labeles, and 1437 samples)\n",
    "in_dim = 64\n",
    "out_dim = 10\n",
    "n_samples = 1437\n",
    "\n",
    "#LR Model traning Parameters\n",
    "learning_rate = 0.01\n",
    "\n",
    "iteration = 100\n",
    "\n",
    "#Arrays required to compute RCoin Values\n",
    "\n",
    "RCoins = []"
   ]
  },
  {
   "cell_type": "code",
   "execution_count": null,
   "metadata": {},
   "outputs": [],
   "source": [
    "class SyNet(sy.Module):\n",
    "    def __init__(self, torch_ref):\n",
    "        super(SyNet, self).__init__(torch_ref = torch_ref)\n",
    "        self.layer1 = self.torch_ref.nn.Linear(in_dim, 128)\n",
    "        self.layer2 = self.torch_ref.nn.Linear(128, 256)\n",
    "        self.layer3 = self.torch_ref.nn.Linear(256, 50)\n",
    "        self.dropout1 = self.torch_ref.nn.Dropout(0.25)\n",
    "        self.out = self.torch_ref.nn.Linear(50, out_dim)\n",
    "\n",
    "    def forward(self, x):\n",
    "        #with profiler_ref.record_function(\"Forward Pass\"):\n",
    "        x = self.torch_ref.nn.functional.relu(self.layer1(x))\n",
    "        x = self.torch_ref.nn.functional.relu(self.layer2(x))\n",
    "        x = self.torch_ref.nn.functional.relu(self.layer3(x))\n",
    "        output = self.torch_ref.nn.functional.log_softmax(self.out(x), dim=1)\n",
    "        return output"
   ]
  },
  {
   "cell_type": "code",
   "execution_count": null,
   "metadata": {},
   "outputs": [],
   "source": [
    "def train(iterations, model, torch_ref, optim, data_ptr, target_ptr, monitor): #profiler_ref\n",
    "\n",
    "    losses = []\n",
    "\n",
    "    for i in range(iterations):\n",
    "        iter_start_time = time.time()\n",
    "        optim.zero_grad()\n",
    "        #with profiler_ref.profile(profiler_memory=True) as prof:\n",
    "        output = model(data_ptr)\n",
    "\n",
    "        # nll_loss = negative log-liklihood loss\n",
    "        loss = torch_ref.nn.functional.nll_loss(output, target_ptr.long())\n",
    "\n",
    "        loss_item = loss.item()\n",
    "        \n",
    "        loss_value = loss_item.get( reason=\"To evaluate training progress\", request_block=True, timeout_secs=5 )\n",
    "        \n",
    "        if i % 10 == 0:\n",
    "            if loss_value is not None:\n",
    "                print(\"Train Epoch: {} loss {:.4}\".format(i, loss_value))\n",
    "            else:\n",
    "                print(\"Train Epoch: {}\".format(i))\n",
    "\n",
    "        losses.append(loss_value)\n",
    "        \n",
    "        loss.backward()\n",
    "\n",
    "        optim.step()\n",
    "        \n",
    "        x =  time.time() - iter_start_time\n",
    "        monitor.QOS =  x\n",
    "        monitor.QOS_list.append(x)\n",
    "\n",
    "    return losses"
   ]
  },
  {
   "cell_type": "code",
   "execution_count": null,
   "metadata": {
    "scrolled": true
   },
   "outputs": [],
   "source": [
    "#Create the model and pass in our local copy of torch\n",
    "local_model = SyNet(torch) #profiler\n",
    "print(local_model)"
   ]
  },
  {
   "cell_type": "markdown",
   "metadata": {},
   "source": [
    "## Receive Remote Data Pointer"
   ]
  },
  {
   "cell_type": "code",
   "execution_count": null,
   "metadata": {},
   "outputs": [],
   "source": [
    "duet.store.pandas"
   ]
  },
  {
   "cell_type": "code",
   "execution_count": null,
   "metadata": {},
   "outputs": [],
   "source": [
    "data_ptr = duet.store[0]\n",
    "target_ptr = duet.store[1]"
   ]
  },
  {
   "cell_type": "code",
   "execution_count": null,
   "metadata": {},
   "outputs": [],
   "source": [
    "mnsit = datasets.load_digits()\n",
    "X, y = mnsit.data, mnsit.target\n",
    "\n",
    "_, X_test, _, y_test = train_test_split(X, y, test_size=0.2, shuffle=False, random_state=42)\n",
    "\n",
    "X_test = torch.FloatTensor(np.array(X_test))\n",
    "y_test = torch.FloatTensor(np.array(y_test))"
   ]
  },
  {
   "cell_type": "markdown",
   "metadata": {},
   "source": [
    "## Send Models"
   ]
  },
  {
   "cell_type": "code",
   "execution_count": null,
   "metadata": {},
   "outputs": [],
   "source": [
    "remote_optims, remote_models = [], []\n",
    "for m in range(num_of_models):\n",
    "    \n",
    "    remote_models.append(local_model.send(duet))\n",
    "    remote_optims.append(remote_torch.optim.SGD(params=remote_models[m].parameters(), lr=learning_rate))\n",
    "    \n",
    "    \n",
    "print(remote_models)    \n",
    "print(remote_optims)\n"
   ]
  },
  {
   "cell_type": "markdown",
   "metadata": {},
   "source": [
    "## Run Training and track QOS values"
   ]
  },
  {
   "cell_type": "code",
   "execution_count": null,
   "metadata": {},
   "outputs": [],
   "source": [
    "print(\"Training on {} - {}\".format(rpi_name,test_name))\n",
    "startTimes, trainingTimes, training_losses = [], [], []      \n",
    "model_number = 1\n",
    "monitor.run_monitor_thread()\n",
    "\n",
    "for r in tqdm(range(num_of_models)):\n",
    "    monitor.task = 'Linear_Regression_Training'\n",
    "    monitor.model_num = model_number\n",
    "    print(\"Round number:\", r+1)\n",
    "    startTimes.append(time.time())\n",
    "    \n",
    "    training_loss  = train(iteration, remote_models[r], remote_torch, remote_optims[r], data_ptr, target_ptr, monitor) #remote_profiler\n",
    "    training_losses.append(training_loss)\n",
    "\n",
    "    trainingTimes.append(time.time() - startTimes[r])\n",
    "    print('Training time:', trainingTimes[-1],'for model', model_number)\n",
    "    model_number += 1\n",
    "    \n",
    "print('Done - Stopping Monitoring thread')\n",
    "time_data = monitor.stop_monitor_thread()\n",
    "monitor.model_num = None\n",
    "monitor.QOS = 0\n",
    "monitor.QOS_list = [0]\n",
    "monitor.task = 'None'"
   ]
  },
  {
   "cell_type": "markdown",
   "metadata": {},
   "source": [
    "## Save results"
   ]
  },
  {
   "cell_type": "code",
   "execution_count": null,
   "metadata": {},
   "outputs": [],
   "source": [
    "time_data.to_csv('data/{}/QOS_data_{}_{}.csv'.format(rpi_name,rpi_name,test_name))"
   ]
  },
  {
   "cell_type": "markdown",
   "metadata": {},
   "source": [
    "# Rcoin "
   ]
  },
  {
   "cell_type": "markdown",
   "metadata": {},
   "source": [
    "## Receive Trained Models"
   ]
  },
  {
   "cell_type": "code",
   "execution_count": null,
   "metadata": {},
   "outputs": [],
   "source": [
    "def get_local_model(model):\n",
    "\n",
    "    local_model = model.get(\n",
    "        request_block=True,\n",
    "        reason=\"To run test and inference locally\",\n",
    "        timeout_secs=5,\n",
    "    )\n",
    "\n",
    "    return local_model"
   ]
  },
  {
   "cell_type": "code",
   "execution_count": null,
   "metadata": {},
   "outputs": [],
   "source": [
    "local_models = []\n",
    "for m in range(num_of_models):\n",
    "    local_models.append(get_local_model(remote_models[m]))"
   ]
  },
  {
   "cell_type": "markdown",
   "metadata": {},
   "source": [
    "## Accuracy of models on test data (section of data not used to train model on Worker deivce)"
   ]
  },
  {
   "cell_type": "code",
   "execution_count": null,
   "metadata": {
    "scrolled": true
   },
   "outputs": [],
   "source": [
    "count = 1\n",
    "accuracy = []\n",
    "for model in local_models:\n",
    "    correct = 0\n",
    "    preds = []\n",
    "    \n",
    "    print(\"Test Model\", count)\n",
    "    count += 1\n",
    "    \n",
    "    with torch.no_grad():\n",
    "        \n",
    "        for i in tqdm(range(len(X_test))):\n",
    "        \n",
    "            sample = X_test[i]\n",
    "            y_hat = model(sample.unsqueeze(0))\n",
    "            pred = y_hat.argmax().item()\n",
    "            \n",
    "            if y_test[i] == pred:\n",
    "                correct += 1\n",
    "                \n",
    "            preds.append(pred)\n",
    "            \n",
    "    accuracy.append(accuracy_score(y_test, preds))\n",
    "\n",
    "print(accuracy)"
   ]
  },
  {
   "cell_type": "code",
   "execution_count": null,
   "metadata": {},
   "outputs": [],
   "source": [
    "def get_RCoinP(RCoins,num_of_models):\n",
    "\n",
    "    RCoinPs = []\n",
    "    RCoinPs.append(RCoins[0])\n",
    "    for i in range(1,num_of_models):\n",
    "        if i <= 4:\n",
    "            RCoinPs.append(RCoinPs[i-1] + RCoins[i])\n",
    "        else:\n",
    "            RCoinPs.append(RCoinPs[i-1] + RCoins[i] -  RCoins[i-5])\n",
    "            \n",
    "    return RCoinPs"
   ]
  },
  {
   "cell_type": "code",
   "execution_count": null,
   "metadata": {},
   "outputs": [],
   "source": [
    "RCoins, training_loss_last = [], []\n",
    "for i in range(num_of_models):\n",
    "    training_loss_last.append(training_losses[i][-1])\n",
    "    RCoins.append( (iteration * accuracy[i]) / (training_losses[i][-1] * trainingTimes[i] * learning_rate))"
   ]
  },
  {
   "cell_type": "code",
   "execution_count": null,
   "metadata": {},
   "outputs": [],
   "source": [
    "print(RCoins)"
   ]
  },
  {
   "cell_type": "code",
   "execution_count": null,
   "metadata": {},
   "outputs": [],
   "source": [
    "RCoinPs = get_RCoinP(RCoins,num_of_models)    "
   ]
  },
  {
   "cell_type": "code",
   "execution_count": null,
   "metadata": {},
   "outputs": [],
   "source": [
    "out_dict = {'RCoin':RCoins,'RCoinP':RCoinPs, 'Accuracy':accuracy,'Training Losses': training_loss_last,'Training Times': trainingTimes}\n",
    "\n",
    "out = pd.DataFrame(out_dict)\n",
    "out.to_csv(\"data/{}/RCoin_{}_{}.csv\".format(rpi_name,rpi_name, test_name), index=False)"
   ]
  }
 ],
 "metadata": {
  "kernelspec": {
   "display_name": "Python 3 (ipykernel)",
   "language": "python",
   "name": "python3"
  },
  "language_info": {
   "codemirror_mode": {
    "name": "ipython",
    "version": 3
   },
   "file_extension": ".py",
   "mimetype": "text/x-python",
   "name": "python",
   "nbconvert_exporter": "python",
   "pygments_lexer": "ipython3",
   "version": "3.9.7"
  }
 },
 "nbformat": 4,
 "nbformat_minor": 2
}
